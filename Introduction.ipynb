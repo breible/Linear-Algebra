{
 "cells": [
  {
   "cell_type": "markdown",
   "metadata": {},
   "source": [
    "# Beispiel: Anwendung Linearer Algebra & Numerik"
   ]
  },
  {
   "cell_type": "markdown",
   "metadata": {},
   "source": [
    "#### Zwei gekoppelte harmonische Oszillatoren der Masse $m$ mit Federkonstante $k$."
   ]
  },
  {
   "cell_type": "markdown",
   "metadata": {},
   "source": [
    "\\begin{align*}\n",
    "    m \\ddot{x}_1 &= k (x_2 - x_1) - k x_1 \\\\\n",
    "    m \\ddot{x}_2 &= k (x_1 - x_2)\n",
    "\\end{align*}"
   ]
  },
  {
   "cell_type": "markdown",
   "metadata": {},
   "source": [
    "Rate Ansatz: $x_i = A_i \\sin(\\omega t + \\varphi)$. Einsetzen ergibt:"
   ]
  },
  {
   "cell_type": "markdown",
   "metadata": {},
   "source": [
    "\\begin{align*}\n",
    "    - m \\omega^2 A_1 &= k (A_2 - A_1) - k A_1 \\\\\n",
    "    - m \\omega^2 A_2 &= k (A_1 - A_2)\n",
    "\\end{align*}"
   ]
  },
  {
   "cell_type": "markdown",
   "metadata": {},
   "source": [
    "In Matrixform:"
   ]
  },
  {
   "cell_type": "markdown",
   "metadata": {},
   "source": [
    "\\begin{align*}\n",
    "    \\begin{pmatrix}\n",
    "        2 & -1 \\\\\n",
    "        -1 & 1\n",
    "    \\end{pmatrix}   \n",
    "    \\begin{pmatrix}\n",
    "        A_1 \\\\\n",
    "        A_2\n",
    "    \\end{pmatrix}\n",
    "    =\n",
    "    \\underbrace{\\frac{m \\omega^2}{k}}_{=: \\lambda}\n",
    "    \\begin{pmatrix}\n",
    "        A_1 \\\\\n",
    "        A_2\n",
    "    \\end{pmatrix}\n",
    "\\end{align*}"
   ]
  },
  {
   "cell_type": "markdown",
   "metadata": {},
   "source": [
    "\\begin{align*}\n",
    "    \\implies \\quad M \\cdot \\vec{A} = \\lambda \\cdot \\vec{A}\n",
    "\\end{align*}\n"
   ]
  },
  {
   "cell_type": "code",
   "execution_count": 1,
   "metadata": {},
   "outputs": [
    {
     "data": {
      "text/plain": [
       "array([[ 2, -1],\n",
       "       [-1,  1]])"
      ]
     },
     "execution_count": 1,
     "metadata": {},
     "output_type": "execute_result"
    }
   ],
   "source": [
    "import numpy as np\n",
    "\n",
    "M = np.array([[2, -1], [-1, 1]])\n",
    "M"
   ]
  },
  {
   "cell_type": "code",
   "execution_count": 2,
   "metadata": {},
   "outputs": [],
   "source": [
    "evals, evects = np.linalg.eig(M)"
   ]
  },
  {
   "cell_type": "code",
   "execution_count": 3,
   "metadata": {},
   "outputs": [
    {
     "data": {
      "text/plain": [
       "array([2.61803399, 0.38196601])"
      ]
     },
     "execution_count": 3,
     "metadata": {},
     "output_type": "execute_result"
    }
   ],
   "source": [
    "evals"
   ]
  },
  {
   "cell_type": "code",
   "execution_count": 4,
   "metadata": {},
   "outputs": [
    {
     "data": {
      "text/plain": [
       "array([[ 0.85065081,  0.52573111],\n",
       "       [-0.52573111,  0.85065081]])"
      ]
     },
     "execution_count": 4,
     "metadata": {},
     "output_type": "execute_result"
    }
   ],
   "source": [
    "evects"
   ]
  },
  {
   "cell_type": "markdown",
   "metadata": {},
   "source": [
    "Sei $\\tilde{\\lambda}$, $\\tilde{A}$ das numerische Ergebnis. Betrachte\n",
    "\\begin{align*}\n",
    "    M \\cdot \\tilde{A} - \\tilde{\\lambda} \\tilde{A}\n",
    "\\end{align*}"
   ]
  },
  {
   "cell_type": "code",
   "execution_count": 5,
   "metadata": {},
   "outputs": [
    {
     "data": {
      "text/plain": [
       "array([ 0.85065081, -0.52573111])"
      ]
     },
     "execution_count": 5,
     "metadata": {},
     "output_type": "execute_result"
    }
   ],
   "source": [
    "a1 = np.array([evects[0,0], evects[1,0]])\n",
    "a1"
   ]
  },
  {
   "cell_type": "code",
   "execution_count": 6,
   "metadata": {},
   "outputs": [
    {
     "data": {
      "text/plain": [
       "array([0.52573111, 0.85065081])"
      ]
     },
     "execution_count": 6,
     "metadata": {},
     "output_type": "execute_result"
    }
   ],
   "source": [
    "a2 = np.array([evects[0,1], evects[1,1]])\n",
    "a2"
   ]
  },
  {
   "cell_type": "code",
   "execution_count": 7,
   "metadata": {},
   "outputs": [
    {
     "data": {
      "text/plain": [
       "array([ 0.00000000e+00, -2.22044605e-16])"
      ]
     },
     "execution_count": 7,
     "metadata": {},
     "output_type": "execute_result"
    }
   ],
   "source": [
    "np.dot(M, a1) - evals[0] * a1"
   ]
  },
  {
   "cell_type": "code",
   "execution_count": 8,
   "metadata": {},
   "outputs": [
    {
     "data": {
      "text/plain": [
       "array([-1.66533454e-16,  5.55111512e-17])"
      ]
     },
     "execution_count": 8,
     "metadata": {},
     "output_type": "execute_result"
    }
   ],
   "source": [
    "np.dot(M, a2) - evals[1] * a2"
   ]
  },
  {
   "cell_type": "markdown",
   "metadata": {},
   "source": [
    "Berechnung der Kreisfrequenz über Eigenwerte:"
   ]
  },
  {
   "cell_type": "markdown",
   "metadata": {},
   "source": [
    "\\begin{align*}\n",
    "    \\omega = \\sqrt{\\frac{k \\lambda}{m}}\n",
    "\\end{align*}"
   ]
  },
  {
   "cell_type": "markdown",
   "metadata": {},
   "source": [
    "#### $n$ gekoppelte harmonsiche Oszillatoren der Massen $m$ mit Federkonstante $k$."
   ]
  },
  {
   "cell_type": "markdown",
   "metadata": {},
   "source": [
    "Betrachte $n = 10$."
   ]
  },
  {
   "cell_type": "code",
   "execution_count": 9,
   "metadata": {},
   "outputs": [
    {
     "data": {
      "text/plain": [
       "<10x10 sparse matrix of type '<class 'numpy.float64'>'\n",
       "\twith 50 stored elements in Compressed Sparse Row format>"
      ]
     },
     "execution_count": 9,
     "metadata": {},
     "output_type": "execute_result"
    }
   ],
   "source": [
    "import scipy.sparse\n",
    "import scipy.sparse.linalg\n",
    "from scipy.sparse import csr_matrix\n",
    "\n",
    "S = scipy.sparse.rand(10, 10, density=0.5, format=\"csr\", random_state=73)\n",
    "S"
   ]
  },
  {
   "cell_type": "code",
   "execution_count": 10,
   "metadata": {},
   "outputs": [
    {
     "data": {
      "text/plain": [
       "array([[0.54769583, 0.        , 0.83568684, 0.19868729, 0.        ,\n",
       "        0.        , 0.54228553, 0.8989356 , 0.91786425, 0.33223246],\n",
       "       [0.        , 0.        , 0.42382329, 0.65514392, 0.        ,\n",
       "        0.55667029, 0.        , 0.        , 0.        , 0.        ],\n",
       "       [0.2094512 , 0.        , 0.        , 0.0303005 , 0.91527261,\n",
       "        0.        , 0.        , 0.12525697, 0.93230303, 0.13136246],\n",
       "       [0.50066768, 0.        , 0.54040181, 0.        , 0.        ,\n",
       "        0.        , 0.        , 0.        , 0.        , 0.        ],\n",
       "       [0.15136982, 0.64520976, 0.86130727, 0.15740563, 0.        ,\n",
       "        0.61391017, 0.        , 0.12956879, 0.        , 0.        ],\n",
       "       [0.65658902, 0.        , 0.97566229, 0.31876264, 0.41328986,\n",
       "        0.        , 0.        , 0.        , 0.        , 0.18248339],\n",
       "       [0.76963708, 0.        , 0.40492701, 0.        , 0.        ,\n",
       "        0.89019428, 0.05211898, 0.48384637, 0.51107984, 0.        ],\n",
       "       [0.        , 0.75146609, 0.        , 0.4846506 , 0.        ,\n",
       "        0.04335749, 0.        , 0.        , 0.38845219, 0.        ],\n",
       "       [0.        , 0.        , 0.        , 0.        , 0.50864174,\n",
       "        0.206415  , 0.92257367, 0.        , 0.20628445, 0.5648501 ],\n",
       "       [0.21901479, 0.02782707, 0.86591183, 0.        , 0.85392519,\n",
       "        0.2202451 , 0.        , 0.28090631, 0.        , 0.        ]])"
      ]
     },
     "execution_count": 10,
     "metadata": {},
     "output_type": "execute_result"
    }
   ],
   "source": [
    "S.toarray()"
   ]
  },
  {
   "cell_type": "code",
   "execution_count": 11,
   "metadata": {},
   "outputs": [
    {
     "data": {
      "text/plain": [
       "(10, 10)"
      ]
     },
     "execution_count": 11,
     "metadata": {},
     "output_type": "execute_result"
    }
   ],
   "source": [
    "np.shape(S)"
   ]
  },
  {
   "cell_type": "code",
   "execution_count": 12,
   "metadata": {},
   "outputs": [],
   "source": [
    "w, v = scipy.sparse.linalg.eigs(S, k = 8)"
   ]
  },
  {
   "cell_type": "code",
   "execution_count": 13,
   "metadata": {},
   "outputs": [
    {
     "data": {
      "text/plain": [
       "array([ 2.51490248+0.j        ,  0.63797751+0.j        ,\n",
       "       -0.1210188 +1.01956873j, -0.1210188 -1.01956873j,\n",
       "       -0.30109073+0.32566063j, -0.30109073-0.32566063j,\n",
       "       -0.7070164 +0.17249934j, -0.7070164 -0.17249934j])"
      ]
     },
     "execution_count": 13,
     "metadata": {},
     "output_type": "execute_result"
    }
   ],
   "source": [
    "w"
   ]
  },
  {
   "cell_type": "code",
   "execution_count": 14,
   "metadata": {},
   "outputs": [
    {
     "data": {
      "text/plain": [
       "array([[-0.52535211+0.j        , -0.52555023+0.j        ,\n",
       "        -0.27539519-0.29674927j, -0.27539519+0.29674927j,\n",
       "        -0.06574231-0.03352293j, -0.06574231+0.03352293j,\n",
       "        -0.55958466-0.02566663j, -0.55958466+0.02566663j],\n",
       "       [-0.16692213+0.j        ,  0.04312969+0.j        ,\n",
       "         0.11449615+0.33284178j,  0.11449615-0.33284178j,\n",
       "        -0.03406834-0.1679515j , -0.03406834+0.1679515j ,\n",
       "        -0.25703235-0.21369232j, -0.25703235+0.21369232j],\n",
       "       [-0.29027269+0.j        ,  0.2572407 +0.j        ,\n",
       "         0.10053358-0.28618807j,  0.10053358+0.28618807j,\n",
       "         0.06439674-0.07156063j,  0.06439674+0.07156063j,\n",
       "         0.48373159-0.19955343j,  0.48373159+0.19955343j],\n",
       "       [-0.16696103+0.j        , -0.19454083+0.j        ,\n",
       "        -0.28368556+0.11562166j, -0.28368556-0.11562166j,\n",
       "        -0.09469347+0.08176076j, -0.09469347-0.08176076j,\n",
       "        -0.01426979+0.16722096j, -0.01426979-0.16722096j],\n",
       "       [-0.2736478 +0.j        ,  0.27552697+0.j        ,\n",
       "         0.07633096+0.10073687j,  0.07633096-0.10073687j,\n",
       "        -0.34264752+0.07343382j, -0.34264752-0.07343382j,\n",
       "        -0.34426482+0.17384826j, -0.34426482-0.17384826j],\n",
       "       [-0.33661766+0.j        ,  0.08253254+0.j        ,\n",
       "        -0.37717993+0.2191619j , -0.37717993-0.2191619j ,\n",
       "         0.1790968 +0.02916973j,  0.1790968 -0.02916973j,\n",
       "         0.04117326+0.14688707j,  0.04117326-0.14688707j],\n",
       "       [-0.42980723+0.j        , -0.50215359+0.j        ,\n",
       "        -0.08249275+0.20591246j, -0.08249275-0.20591246j,\n",
       "        -0.29600517-0.16131671j, -0.29600517+0.16131671j,\n",
       "         0.09233481-0.13429113j,  0.09233481+0.13429113j],\n",
       "       [-0.13913614+0.j        , -0.10885547+0.j        ,\n",
       "         0.35104781-0.08064928j,  0.35104781+0.08064928j,\n",
       "        -0.30349378+0.08180794j, -0.30349378-0.08180794j,\n",
       "         0.18742251+0.11455179j,  0.18742251-0.11455179j],\n",
       "       [-0.33199667+0.j        , -0.02870861+0.j        ,\n",
       "         0.27685794+0.13391538j,  0.27685794-0.13391538j,\n",
       "         0.33071458-0.09820476j,  0.33071458+0.09820476j,\n",
       "         0.11844673+0.0630976j ,  0.11844673-0.0630976j ],\n",
       "       [-0.28547936+0.j        ,  0.51996078+0.j        ,\n",
       "        -0.19831159-0.08498171j, -0.19831159+0.08498171j,\n",
       "         0.48612576+0.46557723j,  0.48612576-0.46557723j,\n",
       "        -0.06663499-0.05673687j, -0.06663499+0.05673687j]])"
      ]
     },
     "execution_count": 14,
     "metadata": {},
     "output_type": "execute_result"
    }
   ],
   "source": [
    "v"
   ]
  },
  {
   "cell_type": "code",
   "execution_count": 15,
   "metadata": {},
   "outputs": [],
   "source": [
    "SM = S.todense()"
   ]
  },
  {
   "cell_type": "code",
   "execution_count": 16,
   "metadata": {},
   "outputs": [
    {
     "data": {
      "text/plain": [
       "matrix([[0.54769583, 0.        , 0.83568684, 0.19868729, 0.        ,\n",
       "         0.        , 0.54228553, 0.8989356 , 0.91786425, 0.33223246],\n",
       "        [0.        , 0.        , 0.42382329, 0.65514392, 0.        ,\n",
       "         0.55667029, 0.        , 0.        , 0.        , 0.        ],\n",
       "        [0.2094512 , 0.        , 0.        , 0.0303005 , 0.91527261,\n",
       "         0.        , 0.        , 0.12525697, 0.93230303, 0.13136246],\n",
       "        [0.50066768, 0.        , 0.54040181, 0.        , 0.        ,\n",
       "         0.        , 0.        , 0.        , 0.        , 0.        ],\n",
       "        [0.15136982, 0.64520976, 0.86130727, 0.15740563, 0.        ,\n",
       "         0.61391017, 0.        , 0.12956879, 0.        , 0.        ],\n",
       "        [0.65658902, 0.        , 0.97566229, 0.31876264, 0.41328986,\n",
       "         0.        , 0.        , 0.        , 0.        , 0.18248339],\n",
       "        [0.76963708, 0.        , 0.40492701, 0.        , 0.        ,\n",
       "         0.89019428, 0.05211898, 0.48384637, 0.51107984, 0.        ],\n",
       "        [0.        , 0.75146609, 0.        , 0.4846506 , 0.        ,\n",
       "         0.04335749, 0.        , 0.        , 0.38845219, 0.        ],\n",
       "        [0.        , 0.        , 0.        , 0.        , 0.50864174,\n",
       "         0.206415  , 0.92257367, 0.        , 0.20628445, 0.5648501 ],\n",
       "        [0.21901479, 0.02782707, 0.86591183, 0.        , 0.85392519,\n",
       "         0.2202451 , 0.        , 0.28090631, 0.        , 0.        ]])"
      ]
     },
     "execution_count": 16,
     "metadata": {},
     "output_type": "execute_result"
    }
   ],
   "source": [
    "SM"
   ]
  },
  {
   "cell_type": "code",
   "execution_count": 17,
   "metadata": {},
   "outputs": [
    {
     "data": {
      "text/plain": [
       "(array([ 2.51490248+0.j        , -0.1210188 +1.01956873j,\n",
       "        -0.1210188 -1.01956873j,  0.63797751+0.j        ,\n",
       "        -0.7070164 +0.17249934j, -0.7070164 -0.17249934j,\n",
       "        -0.30109073+0.32566063j, -0.30109073-0.32566063j,\n",
       "        -0.04426442+0.42016773j, -0.04426442-0.42016773j]),\n",
       " matrix([[ 0.52535211+0.j        ,  0.08902965+0.39493843j,\n",
       "           0.08902965-0.39493843j, -0.52555023+0.j        ,\n",
       "          -0.56017298+0.j        , -0.56017298-0.j        ,\n",
       "          -0.07066656+0.02126206j, -0.07066656-0.02126206j,\n",
       "           0.01128258+0.01692112j,  0.01128258-0.01692112j],\n",
       "         [ 0.16692213+0.j        ,  0.06822223-0.34530963j,\n",
       "           0.06822223+0.34530963j,  0.04312969+0.j        ,\n",
       "          -0.2665536 -0.2016909j , -0.2665536 +0.2016909j ,\n",
       "          -0.14077275-0.09773123j, -0.14077275+0.09773123j,\n",
       "          -0.18408818+0.12425857j, -0.18408818-0.12425857j],\n",
       "         [ 0.29027269+0.j        , -0.23070573+0.19694028j,\n",
       "          -0.23070573-0.19694028j,  0.2572407 +0.j        ,\n",
       "           0.47408019-0.22150801j,  0.47408019+0.22150801j,\n",
       "          -0.00298923-0.09622332j, -0.00298923+0.09622332j,\n",
       "          -0.03778189-0.10686969j, -0.03778189+0.10686969j],\n",
       "         [ 0.16696103+0.j        ,  0.30337288+0.042553j  ,\n",
       "           0.30337288-0.042553j  , -0.19454083+0.j        ,\n",
       "          -0.00659289+0.16769916j, -0.00659289-0.16769916j,\n",
       "          -0.01183604+0.12454551j, -0.01183604-0.12454551j,\n",
       "          -0.11233846+0.04698403j, -0.11233846-0.04698403j],\n",
       "         [ 0.2736478 +0.j        , -0.01538826-0.12544933j,\n",
       "          -0.01538826+0.12544933j,  0.27552697+0.j        ,\n",
       "          -0.33593768+0.18943959j, -0.33593768-0.18943959j,\n",
       "          -0.19666947+0.29003615j, -0.19666947-0.29003615j,\n",
       "          -0.00582097+0.28550419j, -0.00582097-0.28550419j],\n",
       "         [ 0.33661766+0.j        ,  0.43623003+0.j        ,\n",
       "           0.43623003-0.j        ,  0.08253254+0.j        ,\n",
       "           0.04786025+0.14484628j,  0.04786025-0.14484628j,\n",
       "           0.14952082-0.10281081j,  0.14952082+0.10281081j,\n",
       "           0.08182549-0.12275774j,  0.08182549+0.12275774j],\n",
       "         [ 0.42980723+0.j        ,  0.17477654-0.13659485j,\n",
       "           0.17477654+0.13659485j, -0.50215359+0.j        ,\n",
       "           0.08608473-0.13838079j,  0.08608473+0.13838079j,\n",
       "          -0.32535591+0.08823645j, -0.32535591-0.08823645j,\n",
       "          -0.23006517-0.04516204j, -0.23006517+0.04516204j],\n",
       "         [ 0.13913614+0.j        , -0.34404655-0.10663414j,\n",
       "          -0.34404655+0.10663414j, -0.10885547+0.j        ,\n",
       "           0.19247433+0.10584395j,  0.19247433-0.10584395j,\n",
       "          -0.16260021+0.2690022j , -0.16260021-0.2690022j ,\n",
       "          -0.02040083+0.48002816j, -0.02040083-0.48002816j],\n",
       "         [ 0.33199667+0.j        , -0.17210211-0.25488137j,\n",
       "          -0.17210211+0.25488137j, -0.02870861+0.j        ,\n",
       "           0.12121341+0.05760421j,  0.12121341-0.05760421j,\n",
       "           0.17091791-0.29967212j,  0.17091791+0.29967212j,\n",
       "          -0.02974918-0.36206364j, -0.02974918+0.36206364j],\n",
       "         [ 0.28547936+0.j        ,  0.12877242+0.17310991j,\n",
       "           0.12877242-0.17310991j,  0.51996078+0.j        ,\n",
       "          -0.06916464-0.05362413j, -0.06916464+0.05362413j,\n",
       "           0.67311249+0.j        ,  0.67311249-0.j        ,\n",
       "           0.63362638+0.j        ,  0.63362638-0.j        ]]))"
      ]
     },
     "execution_count": 17,
     "metadata": {},
     "output_type": "execute_result"
    }
   ],
   "source": [
    "np.linalg.eig(SM)"
   ]
  }
 ],
 "metadata": {
  "kernelspec": {
   "display_name": "Python 3",
   "language": "python",
   "name": "python3"
  },
  "language_info": {
   "codemirror_mode": {
    "name": "ipython",
    "version": 3
   },
   "file_extension": ".py",
   "mimetype": "text/x-python",
   "name": "python",
   "nbconvert_exporter": "python",
   "pygments_lexer": "ipython3",
   "version": "3.7.5"
  }
 },
 "nbformat": 4,
 "nbformat_minor": 2
}
