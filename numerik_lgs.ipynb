{
 "cells": [
  {
   "cell_type": "markdown",
   "metadata": {},
   "source": [
    "# Numerik eines linearen Gleichungssystems"
   ]
  },
  {
   "cell_type": "markdown",
   "metadata": {},
   "source": [
    "### Beispiel"
   ]
  },
  {
   "cell_type": "markdown",
   "metadata": {},
   "source": [
    "Pivot $\\varepsilon$"
   ]
  },
  {
   "cell_type": "markdown",
   "metadata": {},
   "source": [
    "\\begin{align*}\n",
    "    \\begin{pmatrix}\n",
    "        \\varepsilon & 1 \\\\\n",
    "        1 & 2 \n",
    "    \\end{pmatrix}\n",
    "    \\begin{pmatrix}\n",
    "        x \\\\\n",
    "        y \n",
    "    \\end{pmatrix}\n",
    "    = \\begin{pmatrix} 1 \\\\ 1 \\end{pmatrix}\n",
    "\\end{align*}"
   ]
  },
  {
   "cell_type": "markdown",
   "metadata": {},
   "source": [
    "\\begin{align*}\n",
    "    \\left(\\begin{array}{c c | c}\n",
    "        \\varepsilon & 1 & 1\\\\\n",
    "        0 & 2 - \\frac{1}{\\varepsilon} & 1 - \\frac{1}{\\varepsilon}\n",
    "    \\end{array}\\right)\n",
    "\\end{align*}"
   ]
  },
  {
   "cell_type": "markdown",
   "metadata": {},
   "source": [
    "\\begin{align*}\n",
    "    y = \\frac{1 - \\frac{1}{\\varepsilon}}{2 - \\frac{1}{\\varepsilon}} \\quad , \\quad x = \\frac{1 - y}{\\varepsilon}\n",
    "\\end{align*}"
   ]
  },
  {
   "cell_type": "markdown",
   "metadata": {},
   "source": [
    "Pivot $2$"
   ]
  },
  {
   "cell_type": "markdown",
   "metadata": {},
   "source": [
    "\\begin{align*}\n",
    "    \\left(\\begin{array}{c c | c}\n",
    "        2 & 1 & 1\\\\\n",
    "        1 & \\varepsilon & 1\n",
    "    \\end{array}\\right)\n",
    "\\end{align*}"
   ]
  },
  {
   "cell_type": "markdown",
   "metadata": {},
   "source": [
    "\\begin{align*}\n",
    "    \\left(\\begin{array}{c c | c}\n",
    "        2 & 1 & 1\\\\\n",
    "        0 & \\varepsilon - \\frac{1}{2} & \\frac{1}{2}\n",
    "    \\end{array}\\right)\n",
    "\\end{align*}"
   ]
  },
  {
   "cell_type": "markdown",
   "metadata": {},
   "source": [
    "\\begin{align*}\n",
    "    x = \\frac{1}{2 \\varepsilon - 1} \\quad , \\quad y = \\frac{1 - x}{2}\n",
    "\\end{align*}"
   ]
  },
  {
   "cell_type": "markdown",
   "metadata": {},
   "source": [
    "### Auswertung"
   ]
  },
  {
   "cell_type": "code",
   "execution_count": 1,
   "metadata": {},
   "outputs": [],
   "source": [
    "import numpy as np"
   ]
  },
  {
   "cell_type": "code",
   "execution_count": 2,
   "metadata": {},
   "outputs": [],
   "source": [
    "x_eps = np.array([])\n",
    "y_eps = np.array([])\n",
    "\n",
    "x_p2 = np.array([])\n",
    "y_p2 = np.array([])\n",
    "\n",
    "for k in range(1,5):\n",
    "    \n",
    "    n       = 4 ** k\n",
    "    eps     = 2 ** (-n)\n",
    "    \n",
    "    y_e     = round((1 - 1/eps) / (2 - 1/eps), 15)\n",
    "    x_e     = round((1 - y_e) / eps, 15)\n",
    "    y_eps   = np.append(y_eps, y_e)\n",
    "    x_eps   = np.append(x_eps, x_e)\n",
    "    \n",
    "    \n",
    "    x_2     = round(1 / (2 * eps - 1), 14)\n",
    "    y_2     = round((1 - x_2) / 2, 14)\n",
    "    x_p2    = np.append(x_p2, x_2)\n",
    "    y_p2    = np.append(y_p2, y_2)"
   ]
  },
  {
   "cell_type": "code",
   "execution_count": 3,
   "metadata": {},
   "outputs": [
    {
     "data": {
      "text/plain": [
       "array([1.07142857, 1.00001526, 1.        , 1.        ])"
      ]
     },
     "execution_count": 3,
     "metadata": {},
     "output_type": "execute_result"
    }
   ],
   "source": [
    "y_p2"
   ]
  },
  {
   "cell_type": "code",
   "execution_count": 4,
   "metadata": {},
   "outputs": [
    {
     "data": {
      "text/plain": [
       "array([1.07142857, 1.00001526, 1.        , 1.        ])"
      ]
     },
     "execution_count": 4,
     "metadata": {},
     "output_type": "execute_result"
    }
   ],
   "source": [
    "y_eps"
   ]
  },
  {
   "cell_type": "code",
   "execution_count": 5,
   "metadata": {},
   "outputs": [
    {
     "data": {
      "text/plain": [
       "array([-1.14285714, -1.00003052, -1.        , -1.        ])"
      ]
     },
     "execution_count": 5,
     "metadata": {},
     "output_type": "execute_result"
    }
   ],
   "source": [
    "x_p2"
   ]
  },
  {
   "cell_type": "code",
   "execution_count": 6,
   "metadata": {},
   "outputs": [
    {
     "data": {
      "text/plain": [
       "array([-1.14285714, -1.00003052,  0.        ,  0.        ])"
      ]
     },
     "execution_count": 6,
     "metadata": {},
     "output_type": "execute_result"
    }
   ],
   "source": [
    "x_eps"
   ]
  },
  {
   "cell_type": "code",
   "execution_count": 7,
   "metadata": {},
   "outputs": [
    {
     "data": {
      "text/plain": [
       "5.421010862427522e-20"
      ]
     },
     "execution_count": 7,
     "metadata": {},
     "output_type": "execute_result"
    }
   ],
   "source": [
    "# k = 3\n",
    "\n",
    "n   = 4 ** 3\n",
    "eps = 2 **(-n)\n",
    "\n",
    "eps"
   ]
  },
  {
   "cell_type": "code",
   "execution_count": 8,
   "metadata": {},
   "outputs": [
    {
     "data": {
      "text/plain": [
       "1.8446744073709552e+19"
      ]
     },
     "execution_count": 8,
     "metadata": {},
     "output_type": "execute_result"
    }
   ],
   "source": [
    "1 / eps"
   ]
  },
  {
   "cell_type": "markdown",
   "metadata": {},
   "source": [
    "\\begin{align*}\n",
    "    \\frac{1 - \\frac{1}{\\varepsilon}}{2 - \\frac{1}{\\varepsilon}} \\approx \n",
    "    \\frac{1 - \\frac{1}{\\varepsilon}}{1 - \\frac{1}{\\varepsilon}} = 1\n",
    "\\end{align*}"
   ]
  },
  {
   "cell_type": "code",
   "execution_count": 9,
   "metadata": {},
   "outputs": [
    {
     "data": {
      "text/plain": [
       "1.0"
      ]
     },
     "execution_count": 9,
     "metadata": {},
     "output_type": "execute_result"
    }
   ],
   "source": [
    "(1 - 1/eps) / (2 - 1/eps)"
   ]
  },
  {
   "cell_type": "code",
   "execution_count": 10,
   "metadata": {},
   "outputs": [
    {
     "data": {
      "text/plain": [
       "0.0"
      ]
     },
     "execution_count": 10,
     "metadata": {},
     "output_type": "execute_result"
    }
   ],
   "source": [
    "(1 - (1 - 1/eps) / (2 - 1/eps)) / eps"
   ]
  }
 ],
 "metadata": {
  "file_extension": ".py",
  "kernelspec": {
   "display_name": "Python 3",
   "language": "python",
   "name": "python3"
  },
  "language_info": {
   "codemirror_mode": {
    "name": "ipython",
    "version": 3
   },
   "file_extension": ".py",
   "mimetype": "text/x-python",
   "name": "python",
   "nbconvert_exporter": "python",
   "pygments_lexer": "ipython3",
   "version": "3.7.5"
  },
  "mimetype": "text/x-python",
  "name": "python",
  "npconvert_exporter": "python",
  "pygments_lexer": "ipython3",
  "version": 3
 },
 "nbformat": 4,
 "nbformat_minor": 2
}
